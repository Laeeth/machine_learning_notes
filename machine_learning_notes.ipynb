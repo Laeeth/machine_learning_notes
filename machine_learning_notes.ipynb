{
 "cells": [
  {
   "cell_type": "code",
   "execution_count": 105,
   "metadata": {},
   "outputs": [],
   "source": [
    "# OS/ User specific \n",
    "import os\n",
    "# DATASET_PATH = \"/home/jcharlet/workspace/datascience/machine_learning_notes/data/\"\n",
    "DATASET_PATH = \"/opt/dataiku-dss/config/ipython_notebooks/JCKAGGLEHOUSEPRICES/data/\" \n",
    "# DATASET_PATH = os.path.abspath(os.path.join( os.getcwd() , 'data')) + r'\\'"
   ]
  },
  {
   "cell_type": "markdown",
   "metadata": {},
   "source": [
    "### Kaggle project - Table of Contents\n",
    "* 1 - Define the problem\n",
    "* [Load data and displaying info](#load-data)\n",
    "* 2 - Prepare Data\n",
    "    * Identify features\n",
    "        * Separate numerical from categorical features\n",
    "        * Separate nominal and ordinal (from categorical features)\n",
    "    * Clean data\n",
    "        * Remove numerical features with missing values\n",
    "        * Remove categorical features with missing values\n",
    "        * drop outliers in numerical values # WIP\n",
    "    * transform # TODO\n",
    "        * transform categorical values #TODO\n",
    "* 2 - Feature selection #WIP\n",
    "    * Select features using random forest classifier #WIP\n",
    "    \n",
    "* 3 - Spot Check Algorithms\n",
    "    * split dataset\n",
    "    * train on multiple algorithms  # WIP\n",
    "    \n",
    "    \n",
    "## 7/8: next step is to work on categorical data"
   ]
  },
  {
   "cell_type": "markdown",
   "metadata": {},
   "source": [
    "# Define the problem"
   ]
  },
  {
   "cell_type": "markdown",
   "metadata": {},
   "source": [
    "From project https://www.kaggle.com/c/house-prices-advanced-regression-techniques\n",
    "\n",
    "- Step 1: What is the problem? \n",
    "\n",
    "house prices are hard to predict, we want to know how much my beautiful flat is worth on the market in the USA\n",
    "\n",
    "- Step 2: Why does the problem need to be solved? \n",
    "\n",
    "MONEY MONEY\n",
    "and especially we need to learn Machine Learning\n",
    "\n",
    "- Step 3: How would I solve the problem? \n",
    "\n",
    "housing agents do statistical studies.\n",
    "\n",
    "Data pre-processing is very important. We have a lot of features, dirty data (missing values), numerical/ordinal/nominal values.\n",
    "\n",
    "We'll follow the process from https://machinelearningmastery.com/process-for-working-through-machine-learning-problems/\n",
    "\n",
    "- 1 - Define the Problem\n",
    "- 2 - Prepare Data\n",
    "- 3 - Spot Check Algorithms\n",
    "- 4 - Improve Results\n",
    "- 5 - Present Results"
   ]
  },
  {
   "cell_type": "markdown",
   "metadata": {},
   "source": [
    "# Load data <a class=\"anchor\" id=\"load-data\"></a>"
   ]
  },
  {
   "cell_type": "code",
   "execution_count": 103,
   "metadata": {},
   "outputs": [],
   "source": [
    "import warnings\n",
    "warnings.filterwarnings('ignore')\n",
    "\n",
    "import os\n",
    "import pandas as pd\n",
    "import numpy as np\n",
    "import matplotlib.pyplot as plt\n",
    "from sklearn.ensemble import RandomForestClassifier\n",
    "from sklearn.preprocessing import Imputer\n",
    "\n",
    "import matplotlib.pyplot as plt"
   ]
  },
  {
   "cell_type": "code",
   "execution_count": 106,
   "metadata": {},
   "outputs": [],
   "source": [
    "df = pd.read_csv(DATASET_PATH + \"train.csv\")\n",
    "df_test = pd.read_csv(DATASET_PATH + \"test.csv\")\n"
   ]
  },
  {
   "cell_type": "code",
   "execution_count": 82,
   "metadata": {},
   "outputs": [
    {
     "name": "stdout",
     "output_type": "stream",
     "text": [
      "<class 'pandas.core.frame.DataFrame'>\n",
      "RangeIndex: 1460 entries, 0 to 1459\n",
      "Data columns (total 81 columns):\n",
      "Id               1460 non-null int64\n",
      "MSSubClass       1460 non-null int64\n",
      "MSZoning         1460 non-null object\n",
      "LotFrontage      1201 non-null float64\n",
      "LotArea          1460 non-null int64\n",
      "Street           1460 non-null object\n",
      "Alley            91 non-null object\n",
      "LotShape         1460 non-null object\n",
      "LandContour      1460 non-null object\n",
      "Utilities        1460 non-null object\n",
      "LotConfig        1460 non-null object\n",
      "LandSlope        1460 non-null object\n",
      "Neighborhood     1460 non-null object\n",
      "Condition1       1460 non-null object\n",
      "Condition2       1460 non-null object\n",
      "BldgType         1460 non-null object\n",
      "HouseStyle       1460 non-null object\n",
      "OverallQual      1460 non-null int64\n",
      "OverallCond      1460 non-null int64\n",
      "YearBuilt        1460 non-null int64\n",
      "YearRemodAdd     1460 non-null int64\n",
      "RoofStyle        1460 non-null object\n",
      "RoofMatl         1460 non-null object\n",
      "Exterior1st      1460 non-null object\n",
      "Exterior2nd      1460 non-null object\n",
      "MasVnrType       1452 non-null object\n",
      "MasVnrArea       1452 non-null float64\n",
      "ExterQual        1460 non-null object\n",
      "ExterCond        1460 non-null object\n",
      "Foundation       1460 non-null object\n",
      "BsmtQual         1423 non-null object\n",
      "BsmtCond         1423 non-null object\n",
      "BsmtExposure     1422 non-null object\n",
      "BsmtFinType1     1423 non-null object\n",
      "BsmtFinSF1       1460 non-null int64\n",
      "BsmtFinType2     1422 non-null object\n",
      "BsmtFinSF2       1460 non-null int64\n",
      "BsmtUnfSF        1460 non-null int64\n",
      "TotalBsmtSF      1460 non-null int64\n",
      "Heating          1460 non-null object\n",
      "HeatingQC        1460 non-null object\n",
      "CentralAir       1460 non-null object\n",
      "Electrical       1459 non-null object\n",
      "1stFlrSF         1460 non-null int64\n",
      "2ndFlrSF         1460 non-null int64\n",
      "LowQualFinSF     1460 non-null int64\n",
      "GrLivArea        1460 non-null int64\n",
      "BsmtFullBath     1460 non-null int64\n",
      "BsmtHalfBath     1460 non-null int64\n",
      "FullBath         1460 non-null int64\n",
      "HalfBath         1460 non-null int64\n",
      "BedroomAbvGr     1460 non-null int64\n",
      "KitchenAbvGr     1460 non-null int64\n",
      "KitchenQual      1460 non-null object\n",
      "TotRmsAbvGrd     1460 non-null int64\n",
      "Functional       1460 non-null object\n",
      "Fireplaces       1460 non-null int64\n",
      "FireplaceQu      770 non-null object\n",
      "GarageType       1379 non-null object\n",
      "GarageYrBlt      1379 non-null float64\n",
      "GarageFinish     1379 non-null object\n",
      "GarageCars       1460 non-null int64\n",
      "GarageArea       1460 non-null int64\n",
      "GarageQual       1379 non-null object\n",
      "GarageCond       1379 non-null object\n",
      "PavedDrive       1460 non-null object\n",
      "WoodDeckSF       1460 non-null int64\n",
      "OpenPorchSF      1460 non-null int64\n",
      "EnclosedPorch    1460 non-null int64\n",
      "3SsnPorch        1460 non-null int64\n",
      "ScreenPorch      1460 non-null int64\n",
      "PoolArea         1460 non-null int64\n",
      "PoolQC           7 non-null object\n",
      "Fence            281 non-null object\n",
      "MiscFeature      54 non-null object\n",
      "MiscVal          1460 non-null int64\n",
      "MoSold           1460 non-null int64\n",
      "YrSold           1460 non-null int64\n",
      "SaleType         1460 non-null object\n",
      "SaleCondition    1460 non-null object\n",
      "SalePrice        1460 non-null int64\n",
      "dtypes: float64(3), int64(35), object(43)\n",
      "memory usage: 924.0+ KB\n",
      "None\n"
     ]
    }
   ],
   "source": [
    "print(df.info())\n"
   ]
  },
  {
   "cell_type": "markdown",
   "metadata": {},
   "source": [
    "# Prepare data <a class=\"anchor\" id=\"clean-data\"></a>\n",
    "## Identify features\n",
    "### Separate numerical from categorical features"
   ]
  },
  {
   "cell_type": "code",
   "execution_count": 83,
   "metadata": {},
   "outputs": [],
   "source": [
    "# Separating data features according to data type: numeric or string\n",
    "\n",
    "X_numeric_labels = set(df._get_numeric_data().columns.tolist())\n",
    "X_categorical_labels = set(df.columns.tolist()).difference(X_numeric_labels)"
   ]
  },
  {
   "cell_type": "code",
   "execution_count": 84,
   "metadata": {},
   "outputs": [
    {
     "name": "stdout",
     "output_type": "stream",
     "text": [
      "These are numerical features {'GarageYrBlt', 'MiscVal', 'MasVnrArea', 'BedroomAbvGr', 'LotArea', 'OverallQual', 'HalfBath', 'Fireplaces', 'LotFrontage', 'GrLivArea', 'TotRmsAbvGrd', 'BsmtFinSF2', 'BsmtUnfSF', 'GarageCars', 'WoodDeckSF', 'BsmtFinSF1', 'Id', '1stFlrSF', 'BsmtHalfBath', 'EnclosedPorch', 'ScreenPorch', 'YearRemodAdd', 'PoolArea', 'YrSold', 'SalePrice', 'KitchenAbvGr', 'OpenPorchSF', 'BsmtFullBath', '2ndFlrSF', 'OverallCond', 'YearBuilt', 'TotalBsmtSF', 'GarageArea', 'FullBath', '3SsnPorch', 'MSSubClass', 'MoSold', 'LowQualFinSF'} \n",
      "\n",
      "These are categorical features {'BsmtCond', 'Electrical', 'Utilities', 'PavedDrive', 'Exterior2nd', 'ExterQual', 'GarageCond', 'Neighborhood', 'GarageType', 'Heating', 'LandContour', 'MiscFeature', 'LotShape', 'BsmtFinType2', 'BldgType', 'Foundation', 'SaleType', 'Fence', 'Street', 'GarageFinish', 'MasVnrType', 'BsmtQual', 'LandSlope', 'RoofStyle', 'FireplaceQu', 'SaleCondition', 'HeatingQC', 'MSZoning', 'LotConfig', 'BsmtExposure', 'KitchenQual', 'Alley', 'PoolQC', 'Exterior1st', 'Condition1', 'HouseStyle', 'CentralAir', 'RoofMatl', 'ExterCond', 'Condition2', 'BsmtFinType1', 'Functional', 'GarageQual'} \n",
      "\n"
     ]
    }
   ],
   "source": [
    "print('These are numerical features {} \\n'.format(X_numeric_labels))\n",
    "print('These are categorical features {} \\n'.format(X_categorical_labels))\n"
   ]
  },
  {
   "cell_type": "markdown",
   "metadata": {},
   "source": [
    "### Separate nominal and ordinal (from categorical features)"
   ]
  },
  {
   "cell_type": "code",
   "execution_count": 85,
   "metadata": {},
   "outputs": [],
   "source": [
    "# Separating categorical features in two sets: nominal and ordinal\n",
    "# The values in features asociated with categorical ordinal feautures are: [Ex, Gd, GLQ, GdPrv, Fin] ... etc\n",
    "\n",
    "categorical_ordinal_list_values = ['Ex', 'Gd', 'GLQ', 'GdPrv', 'Fin'] # There are not all of the values. Here must be\n",
    "# included all the possible values for the categorical ordinal features\n",
    "\n",
    "X_categorical_nominal_labels = (df[list(X_categorical_labels)].drop(categorical_missing_values_labels,\n",
    "        1).isin(categorical_ordinal_list_values) == False).all().loc[lambda df: df.values == True].axes\n",
    "\n",
    "# The previous instruction returns the index of the categorical_nominal_values. I think we could include the following features:\n",
    "#LandSlope has values: Gtl -> Gentle slopen; Mod -> Moderate Slope; Sev -> Severe Slope\n",
    "#Functional has values: Typ -> Typical Functionality; Min1 -> Minor Deductions 1; Min2 -> Minor Deductions 2; Mod -> Moderate Deductions; Maj1 -> Major Deductions 1; Maj2 -> Major Deductions 2; Sev -> Severely Damaged; Sal -> Salvage only\n",
    "#PavedDrive has values:   Y -> Paved ; P -> Partial Pavement; N -> Dirt/Gravel\n",
    "\n"
   ]
  },
  {
   "cell_type": "code",
   "execution_count": 86,
   "metadata": {},
   "outputs": [
    {
     "name": "stdout",
     "output_type": "stream",
     "text": [
      "[Index(['Utilities', 'PavedDrive', 'Exterior2nd', 'Neighborhood', 'Heating',\n",
      "       'LandContour', 'LotShape', 'BldgType', 'Foundation', 'SaleType',\n",
      "       'Street', 'LandSlope', 'RoofStyle', 'SaleCondition', 'MSZoning',\n",
      "       'LotConfig', 'Exterior1st', 'Condition1', 'HouseStyle', 'CentralAir',\n",
      "       'RoofMatl', 'Condition2', 'Functional'],\n",
      "      dtype='object')]\n",
      "\n",
      "['Utilities', 'PavedDrive', 'Exterior2nd', 'Neighborhood', 'Heating', 'LandContour', 'LotShape', 'BldgType', 'Foundation', 'SaleType', 'Street', 'LandSlope', 'RoofStyle', 'SaleCondition', 'MSZoning', 'LotConfig', 'Exterior1st', 'Condition1', 'HouseStyle', 'CentralAir', 'RoofMatl', 'Condition2', 'Functional']\n"
     ]
    }
   ],
   "source": [
    "print(X_categorical_nominal_labels)\n",
    "print()\n",
    "print(X_categorical_nominal_labels[0].tolist())"
   ]
  },
  {
   "cell_type": "markdown",
   "metadata": {},
   "source": [
    "### Remarks\n",
    "<p> From the set of set of **X_categorical_labels** the set of **X_categorical_nominal_labels** is extracted to get \n",
    "the set of **X_categorical_ordinal_labels**</p>\n",
    "\n",
    "* On the set of **X_categorical_ordinal_labels** we can apply pag 104 **mapping strategy**\n",
    "\n",
    "* On the set of **X_categorical_nominal_labels** we can apply **one-hot encoding strategy** pag 106"
   ]
  },
  {
   "cell_type": "code",
   "execution_count": 87,
   "metadata": {},
   "outputs": [],
   "source": [
    "X_categorical_ordinal_labels = set(X_categorical_labels).difference(set(X_categorical_nominal_labels[0].tolist()))"
   ]
  },
  {
   "cell_type": "code",
   "execution_count": 88,
   "metadata": {},
   "outputs": [],
   "source": [
    "# print(X_categorical_labels)"
   ]
  },
  {
   "cell_type": "code",
   "execution_count": 89,
   "metadata": {},
   "outputs": [],
   "source": [
    "# df[list(X_categorical_ordinal_labels)]"
   ]
  },
  {
   "cell_type": "markdown",
   "metadata": {
    "collapsed": true
   },
   "source": [
    "## Clean data\n",
    "\n",
    "#### Some considerations\n",
    "\n",
    "\n",
    "* <p> Page 107 of \"our book\":  \"After executing the preceding code, the first column of the NumPy array X now holds the new\n",
    "colour values, which are encoded as follows:\n",
    "blue to 0\n",
    "green to 1\n",
    "red to 2\n",
    "If we stop at this point and feed the array to our classifier, *we will make one of the most common \n",
    "mistakes in dealing with categorical data*. Can you spot the problem? *\n",
    "Although the colour values do not come in any particular order, a learning algorithm will now assume\n",
    "that green is larger than blue, and red is larger than green. \n",
    "Although this assumption is incorrect, the algorithm could still produce useful results. \n",
    "However, those results would not be optimal* \"</p>\n",
    "\n",
    "* <p> In the numerical feature variables there is the possibility that there are categorical numerical features variables. How to identify this kinf of features ? \n",
    " I think the main problem is what strategy to use to replace values ? median, mode or mean ? </p>\n",
    " "
   ]
  },
  {
   "cell_type": "code",
   "execution_count": 90,
   "metadata": {},
   "outputs": [],
   "source": [
    "df_cleaned=df.copy()"
   ]
  },
  {
   "cell_type": "markdown",
   "metadata": {},
   "source": [
    "### Remove categorical features with missing values"
   ]
  },
  {
   "cell_type": "code",
   "execution_count": 91,
   "metadata": {},
   "outputs": [
    {
     "name": "stdout",
     "output_type": "stream",
     "text": [
      "['BsmtCond', 'Electrical', 'GarageCond', 'GarageType', 'MiscFeature', 'BsmtFinType2', 'Fence', 'GarageFinish', 'MasVnrType', 'BsmtQual', 'FireplaceQu', 'BsmtExposure', 'Alley', 'PoolQC', 'BsmtFinType1', 'GarageQual']\n",
      " Number of Total Categorical Values = 43 \n",
      " Number of Categorical Missing Values = 16  \n",
      " Difference = 27\n"
     ]
    }
   ],
   "source": [
    "# we are dropping any categorical feature with at least one null value, we can relax this requirement by changing df > 0 to \n",
    "# df > n with n > 0\n",
    "\n",
    "categorical_missing_values_labels = \\\n",
    "        df[list(X_categorical_labels)].isnull().sum().loc[lambda df: df > 0].index.tolist()\n",
    "\n",
    "print(categorical_missing_values_labels)\n",
    "\n",
    "print(\" Number of Total Categorical Values = {} \\n Number of Categorical Missing Values = {}  \\n Difference = {}\"\\\n",
    "      .format(len(X_categorical_labels), len(categorical_missing_values_labels), \\\n",
    "              len(X_categorical_labels)- len(categorical_missing_values_labels) ))\n",
    "\n",
    "df_cleaned.drop(categorical_missing_values_labels, 1,inplace=True)"
   ]
  },
  {
   "cell_type": "markdown",
   "metadata": {
    "collapsed": true
   },
   "source": [
    "### Remove numerical features with missing values"
   ]
  },
  {
   "cell_type": "code",
   "execution_count": 92,
   "metadata": {},
   "outputs": [
    {
     "name": "stdout",
     "output_type": "stream",
     "text": [
      " Number of Total Numerical Values = 38 \n",
      " Number of Numerical Missing Values = 3  \n",
      " Difference = 35\n"
     ]
    }
   ],
   "source": [
    "df_cleaned= df_cleaned._get_numeric_data().drop(['Id'],1)\n",
    "X_numerical_missing_values_labels=df_cleaned[df_cleaned._get_numeric_data().columns.tolist()].isnull().sum()\\\n",
    "                    .loc[lambda df: df.values > 0].index.tolist()\n",
    "    \n",
    "\n",
    "print(\" Number of Total Numerical Values = {} \\n Number of Numerical Missing Values = {}  \\n Difference = {}\"\\\n",
    "      .format(len(X_numeric_labels), len(X_numerical_missing_values_labels), \\\n",
    "              len(X_numeric_labels)- len(X_numerical_missing_values_labels) ))\n",
    "\n",
    "\n",
    "df_cleaned.drop(X_numerical_missing_values_labels, 1,inplace=True)"
   ]
  },
  {
   "cell_type": "code",
   "execution_count": 93,
   "metadata": {},
   "outputs": [],
   "source": [
    "# print(X_numerical_missing_values_labels)\n",
    "# print(categorical_missing_values_labels)\n",
    "# df_cleaned.columns.values"
   ]
  },
  {
   "cell_type": "markdown",
   "metadata": {},
   "source": [
    "### Drop outliers in numerical values # WIP"
   ]
  },
  {
   "cell_type": "code",
   "execution_count": 94,
   "metadata": {},
   "outputs": [],
   "source": [
    "# def drop_outliers(df, field_name):\n",
    "#     distance = 1.5 * (np.percentile(df[field_name], 75) - np.percentile(df[field_name], 25))\n",
    "#     df.drop(df[df[field_name] > distance + np.percentile(df[field_name], 75)].index, inplace=True)\n",
    "#     df.drop(df[df[field_name] < np.percentile(df[field_name], 25) - distance].index, inplace=True)\n",
    "\n",
    "# # drop_outliers(df_cleaned, 'LotArea')    \n",
    "# df_cleaned_no_outlier = df.copy()\n",
    "# for feature in X_numerical_not_missing_values_labels:\n",
    "#     drop_outliers(df_cleaned_no_outlier, feature)    "
   ]
  },
  {
   "cell_type": "code",
   "execution_count": 95,
   "metadata": {},
   "outputs": [
    {
     "name": "stdout",
     "output_type": "stream",
     "text": [
      "nb of rows with outliers:1460, without: 584\n"
     ]
    }
   ],
   "source": [
    "# print(\"nb of rows with outliers:{}, without: {}\".format(df.shape[0],df_cleaned_no_outlier.shape[0]))\n"
   ]
  },
  {
   "cell_type": "markdown",
   "metadata": {},
   "source": [
    "We are currently removing far too many items.\n",
    "\n",
    "attempt above was removing values using univariate method: unsatisfying: we remove a third of the dataset, we should rather use filters here if we really want to deal with outliers on 1 dimension\n",
    "\n",
    "but a much better way would be to find outliers in the whole dataset on all dimensions using multivariate method. We would then remove those outliers from the training set to improve accuracy\n",
    "\n",
    "see http://scikit-learn.org/stable/modules/outlier_detection.html\n",
    "http://scikit-learn.org/stable/auto_examples/covariance/plot_outlier_detection.html"
   ]
  },
  {
   "cell_type": "markdown",
   "metadata": {},
   "source": [
    "# Feature Selection"
   ]
  },
  {
   "cell_type": "code",
   "execution_count": 96,
   "metadata": {},
   "outputs": [],
   "source": [
    "# feature_columns=filter(lambda x: x !=\"SalePrice\" and x!=\"Id\", df.columns)\n",
    "# feature_numerical_columns = df[feature_columns].select_dtypes(include=[np.number]).columns.tolist()\n",
    "feature_numerical_columns=X_numerical_not_missing_values_labels\n",
    "prediction_column=\"SalePrice\"\n",
    "# # print(feature_columns)\n",
    "X = df[feature_numerical_columns]\n",
    "Y=df[[prediction_column]];"
   ]
  },
  {
   "cell_type": "code",
   "execution_count": 97,
   "metadata": {},
   "outputs": [
    {
     "name": "stdout",
     "output_type": "stream",
     "text": [
      "label MSSubClass : 0.10630084945219868\n",
      "label LotArea : 0.057419442174668975\n",
      "label OverallQual : 0.05648865577820874\n",
      "label OverallCond : 0.0557373821829778\n",
      "label YearBuilt : 0.05497467756810896\n",
      "label YearRemodAdd : 0.05370985687355734\n",
      "label BsmtFinSF1 : 0.05311447057092913\n",
      "label BsmtFinSF2 : 0.04958933782922058\n",
      "label BsmtUnfSF : 0.04955799099489236\n",
      "label TotalBsmtSF : 0.045816711763436\n",
      "label 1stFlrSF : 0.04316719210909622\n",
      "label 2ndFlrSF : 0.03782533593199823\n",
      "label LowQualFinSF : 0.037310204913633294\n",
      "label GrLivArea : 0.03381095651910322\n",
      "label BsmtFullBath : 0.0293061378190071\n",
      "label BsmtHalfBath : 0.027581236115954883\n",
      "label FullBath : 0.025544547312649424\n",
      "label HalfBath : 0.021876949083578227\n",
      "label BedroomAbvGr : 0.019843871531554598\n",
      "label KitchenAbvGr : 0.019239656298875286\n",
      "label TotRmsAbvGrd : 0.017081697376602468\n",
      "label Fireplaces : 0.014956716850152017\n",
      "label GarageCars : 0.01362845032227814\n",
      "label GarageArea : 0.012163217080534887\n",
      "label WoodDeckSF : 0.011675551998970841\n",
      "label OpenPorchSF : 0.011442150205792801\n",
      "label EnclosedPorch : 0.010729393524123328\n",
      "label 3SsnPorch : 0.008450072735658672\n",
      "label ScreenPorch : 0.004534556676952425\n",
      "label PoolArea : 0.004499501382683445\n",
      "label MiscVal : 0.004486404058840479\n",
      "label MoSold : 0.004308000940572934\n",
      "label YrSold : 0.00308372459031978\n",
      "label SalePrice : 0.0007450994328687054\n"
     ]
    }
   ],
   "source": [
    "from sklearn.ensemble import RandomForestClassifier\n",
    "\n",
    "model = RandomForestClassifier();\n",
    "model = model.fit(X, Y)    \n",
    "importances = model.feature_importances_\n",
    "indices = np.argsort(importances)[::-1]\n",
    "for f in range(X.shape[1]):\n",
    "    print(\"label {} : {}\".format(feature_numerical_columns[f],importances[indices[f]]))\n",
    "# print(indices)\n",
    "\n",
    "# plt.bar(range(X.shape[1]),importances[indices],align='center')\n",
    "# plt.xticks(range(X.shape[1]),feature_numerical_columns,rotation=90);\n",
    "# plt.rcParams[\"figure.figsize\"] = (17,5)\n"
   ]
  },
  {
   "cell_type": "markdown",
   "metadata": {},
   "source": [
    "To draw graph and select features"
   ]
  },
  {
   "cell_type": "markdown",
   "metadata": {},
   "source": [
    "# Spot Check Algorithms\n",
    "## Split dataset"
   ]
  },
  {
   "cell_type": "code",
   "execution_count": 110,
   "metadata": {},
   "outputs": [
    {
     "data": {
      "text/html": [
       "<div>\n",
       "<style>\n",
       "    .dataframe thead tr:only-child th {\n",
       "        text-align: right;\n",
       "    }\n",
       "\n",
       "    .dataframe thead th {\n",
       "        text-align: left;\n",
       "    }\n",
       "\n",
       "    .dataframe tbody tr th {\n",
       "        vertical-align: top;\n",
       "    }\n",
       "</style>\n",
       "<table border=\"1\" class=\"dataframe\">\n",
       "  <thead>\n",
       "    <tr style=\"text-align: right;\">\n",
       "      <th></th>\n",
       "      <th>Id</th>\n",
       "      <th>MSSubClass</th>\n",
       "      <th>MSZoning</th>\n",
       "      <th>LotFrontage</th>\n",
       "      <th>LotArea</th>\n",
       "      <th>Street</th>\n",
       "      <th>Alley</th>\n",
       "      <th>LotShape</th>\n",
       "      <th>LandContour</th>\n",
       "      <th>Utilities</th>\n",
       "      <th>...</th>\n",
       "      <th>ScreenPorch</th>\n",
       "      <th>PoolArea</th>\n",
       "      <th>PoolQC</th>\n",
       "      <th>Fence</th>\n",
       "      <th>MiscFeature</th>\n",
       "      <th>MiscVal</th>\n",
       "      <th>MoSold</th>\n",
       "      <th>YrSold</th>\n",
       "      <th>SaleType</th>\n",
       "      <th>SaleCondition</th>\n",
       "    </tr>\n",
       "  </thead>\n",
       "  <tbody>\n",
       "    <tr>\n",
       "      <th>0</th>\n",
       "      <td>1461</td>\n",
       "      <td>20</td>\n",
       "      <td>RH</td>\n",
       "      <td>80.0</td>\n",
       "      <td>11622</td>\n",
       "      <td>Pave</td>\n",
       "      <td>NaN</td>\n",
       "      <td>Reg</td>\n",
       "      <td>Lvl</td>\n",
       "      <td>AllPub</td>\n",
       "      <td>...</td>\n",
       "      <td>120</td>\n",
       "      <td>0</td>\n",
       "      <td>NaN</td>\n",
       "      <td>MnPrv</td>\n",
       "      <td>NaN</td>\n",
       "      <td>0</td>\n",
       "      <td>6</td>\n",
       "      <td>2010</td>\n",
       "      <td>WD</td>\n",
       "      <td>Normal</td>\n",
       "    </tr>\n",
       "    <tr>\n",
       "      <th>1</th>\n",
       "      <td>1462</td>\n",
       "      <td>20</td>\n",
       "      <td>RL</td>\n",
       "      <td>81.0</td>\n",
       "      <td>14267</td>\n",
       "      <td>Pave</td>\n",
       "      <td>NaN</td>\n",
       "      <td>IR1</td>\n",
       "      <td>Lvl</td>\n",
       "      <td>AllPub</td>\n",
       "      <td>...</td>\n",
       "      <td>0</td>\n",
       "      <td>0</td>\n",
       "      <td>NaN</td>\n",
       "      <td>NaN</td>\n",
       "      <td>Gar2</td>\n",
       "      <td>12500</td>\n",
       "      <td>6</td>\n",
       "      <td>2010</td>\n",
       "      <td>WD</td>\n",
       "      <td>Normal</td>\n",
       "    </tr>\n",
       "    <tr>\n",
       "      <th>2</th>\n",
       "      <td>1463</td>\n",
       "      <td>60</td>\n",
       "      <td>RL</td>\n",
       "      <td>74.0</td>\n",
       "      <td>13830</td>\n",
       "      <td>Pave</td>\n",
       "      <td>NaN</td>\n",
       "      <td>IR1</td>\n",
       "      <td>Lvl</td>\n",
       "      <td>AllPub</td>\n",
       "      <td>...</td>\n",
       "      <td>0</td>\n",
       "      <td>0</td>\n",
       "      <td>NaN</td>\n",
       "      <td>MnPrv</td>\n",
       "      <td>NaN</td>\n",
       "      <td>0</td>\n",
       "      <td>3</td>\n",
       "      <td>2010</td>\n",
       "      <td>WD</td>\n",
       "      <td>Normal</td>\n",
       "    </tr>\n",
       "    <tr>\n",
       "      <th>3</th>\n",
       "      <td>1464</td>\n",
       "      <td>60</td>\n",
       "      <td>RL</td>\n",
       "      <td>78.0</td>\n",
       "      <td>9978</td>\n",
       "      <td>Pave</td>\n",
       "      <td>NaN</td>\n",
       "      <td>IR1</td>\n",
       "      <td>Lvl</td>\n",
       "      <td>AllPub</td>\n",
       "      <td>...</td>\n",
       "      <td>0</td>\n",
       "      <td>0</td>\n",
       "      <td>NaN</td>\n",
       "      <td>NaN</td>\n",
       "      <td>NaN</td>\n",
       "      <td>0</td>\n",
       "      <td>6</td>\n",
       "      <td>2010</td>\n",
       "      <td>WD</td>\n",
       "      <td>Normal</td>\n",
       "    </tr>\n",
       "    <tr>\n",
       "      <th>4</th>\n",
       "      <td>1465</td>\n",
       "      <td>120</td>\n",
       "      <td>RL</td>\n",
       "      <td>43.0</td>\n",
       "      <td>5005</td>\n",
       "      <td>Pave</td>\n",
       "      <td>NaN</td>\n",
       "      <td>IR1</td>\n",
       "      <td>HLS</td>\n",
       "      <td>AllPub</td>\n",
       "      <td>...</td>\n",
       "      <td>144</td>\n",
       "      <td>0</td>\n",
       "      <td>NaN</td>\n",
       "      <td>NaN</td>\n",
       "      <td>NaN</td>\n",
       "      <td>0</td>\n",
       "      <td>1</td>\n",
       "      <td>2010</td>\n",
       "      <td>WD</td>\n",
       "      <td>Normal</td>\n",
       "    </tr>\n",
       "  </tbody>\n",
       "</table>\n",
       "<p>5 rows × 80 columns</p>\n",
       "</div>"
      ],
      "text/plain": [
       "     Id  MSSubClass MSZoning  LotFrontage  LotArea Street Alley LotShape  \\\n",
       "0  1461          20       RH         80.0    11622   Pave   NaN      Reg   \n",
       "1  1462          20       RL         81.0    14267   Pave   NaN      IR1   \n",
       "2  1463          60       RL         74.0    13830   Pave   NaN      IR1   \n",
       "3  1464          60       RL         78.0     9978   Pave   NaN      IR1   \n",
       "4  1465         120       RL         43.0     5005   Pave   NaN      IR1   \n",
       "\n",
       "  LandContour Utilities      ...       ScreenPorch PoolArea PoolQC  Fence  \\\n",
       "0         Lvl    AllPub      ...               120        0    NaN  MnPrv   \n",
       "1         Lvl    AllPub      ...                 0        0    NaN    NaN   \n",
       "2         Lvl    AllPub      ...                 0        0    NaN  MnPrv   \n",
       "3         Lvl    AllPub      ...                 0        0    NaN    NaN   \n",
       "4         HLS    AllPub      ...               144        0    NaN    NaN   \n",
       "\n",
       "  MiscFeature MiscVal MoSold  YrSold  SaleType  SaleCondition  \n",
       "0         NaN       0      6    2010        WD         Normal  \n",
       "1        Gar2   12500      6    2010        WD         Normal  \n",
       "2         NaN       0      3    2010        WD         Normal  \n",
       "3         NaN       0      6    2010        WD         Normal  \n",
       "4         NaN       0      1    2010        WD         Normal  \n",
       "\n",
       "[5 rows x 80 columns]"
      ]
     },
     "execution_count": 110,
     "metadata": {},
     "output_type": "execute_result"
    }
   ],
   "source": [
    "df_test.head()"
   ]
  },
  {
   "cell_type": "code",
   "execution_count": 111,
   "metadata": {},
   "outputs": [
    {
     "name": "stdout",
     "output_type": "stream",
     "text": [
      "      SalePrice\n",
      "615      137500\n",
      "613      147000\n",
      "1303     232000\n",
      "486      156000\n",
      "561      170000\n"
     ]
    },
    {
     "data": {
      "text/html": [
       "<div>\n",
       "<style>\n",
       "    .dataframe thead tr:only-child th {\n",
       "        text-align: right;\n",
       "    }\n",
       "\n",
       "    .dataframe thead th {\n",
       "        text-align: left;\n",
       "    }\n",
       "\n",
       "    .dataframe tbody tr th {\n",
       "        vertical-align: top;\n",
       "    }\n",
       "</style>\n",
       "<table border=\"1\" class=\"dataframe\">\n",
       "  <thead>\n",
       "    <tr style=\"text-align: right;\">\n",
       "      <th></th>\n",
       "      <th>MSSubClass</th>\n",
       "      <th>LotArea</th>\n",
       "      <th>OverallQual</th>\n",
       "      <th>OverallCond</th>\n",
       "      <th>YearBuilt</th>\n",
       "      <th>YearRemodAdd</th>\n",
       "      <th>BsmtFinSF1</th>\n",
       "      <th>BsmtFinSF2</th>\n",
       "      <th>BsmtUnfSF</th>\n",
       "      <th>TotalBsmtSF</th>\n",
       "      <th>...</th>\n",
       "      <th>WoodDeckSF</th>\n",
       "      <th>OpenPorchSF</th>\n",
       "      <th>EnclosedPorch</th>\n",
       "      <th>3SsnPorch</th>\n",
       "      <th>ScreenPorch</th>\n",
       "      <th>PoolArea</th>\n",
       "      <th>MiscVal</th>\n",
       "      <th>MoSold</th>\n",
       "      <th>YrSold</th>\n",
       "      <th>SalePrice</th>\n",
       "    </tr>\n",
       "  </thead>\n",
       "  <tbody>\n",
       "    <tr>\n",
       "      <th>615</th>\n",
       "      <td>85</td>\n",
       "      <td>8800</td>\n",
       "      <td>6</td>\n",
       "      <td>7</td>\n",
       "      <td>1963</td>\n",
       "      <td>1963</td>\n",
       "      <td>763</td>\n",
       "      <td>0</td>\n",
       "      <td>173</td>\n",
       "      <td>936</td>\n",
       "      <td>...</td>\n",
       "      <td>120</td>\n",
       "      <td>0</td>\n",
       "      <td>0</td>\n",
       "      <td>0</td>\n",
       "      <td>0</td>\n",
       "      <td>0</td>\n",
       "      <td>0</td>\n",
       "      <td>5</td>\n",
       "      <td>2010</td>\n",
       "      <td>137500</td>\n",
       "    </tr>\n",
       "    <tr>\n",
       "      <th>613</th>\n",
       "      <td>20</td>\n",
       "      <td>8402</td>\n",
       "      <td>5</td>\n",
       "      <td>5</td>\n",
       "      <td>2007</td>\n",
       "      <td>2007</td>\n",
       "      <td>206</td>\n",
       "      <td>0</td>\n",
       "      <td>914</td>\n",
       "      <td>1120</td>\n",
       "      <td>...</td>\n",
       "      <td>0</td>\n",
       "      <td>30</td>\n",
       "      <td>0</td>\n",
       "      <td>0</td>\n",
       "      <td>0</td>\n",
       "      <td>0</td>\n",
       "      <td>0</td>\n",
       "      <td>12</td>\n",
       "      <td>2007</td>\n",
       "      <td>147000</td>\n",
       "    </tr>\n",
       "    <tr>\n",
       "      <th>1303</th>\n",
       "      <td>20</td>\n",
       "      <td>8688</td>\n",
       "      <td>7</td>\n",
       "      <td>5</td>\n",
       "      <td>2005</td>\n",
       "      <td>2005</td>\n",
       "      <td>0</td>\n",
       "      <td>0</td>\n",
       "      <td>1616</td>\n",
       "      <td>1616</td>\n",
       "      <td>...</td>\n",
       "      <td>208</td>\n",
       "      <td>59</td>\n",
       "      <td>0</td>\n",
       "      <td>0</td>\n",
       "      <td>0</td>\n",
       "      <td>0</td>\n",
       "      <td>0</td>\n",
       "      <td>4</td>\n",
       "      <td>2006</td>\n",
       "      <td>232000</td>\n",
       "    </tr>\n",
       "    <tr>\n",
       "      <th>486</th>\n",
       "      <td>20</td>\n",
       "      <td>10289</td>\n",
       "      <td>5</td>\n",
       "      <td>7</td>\n",
       "      <td>1965</td>\n",
       "      <td>1965</td>\n",
       "      <td>836</td>\n",
       "      <td>0</td>\n",
       "      <td>237</td>\n",
       "      <td>1073</td>\n",
       "      <td>...</td>\n",
       "      <td>0</td>\n",
       "      <td>0</td>\n",
       "      <td>0</td>\n",
       "      <td>0</td>\n",
       "      <td>0</td>\n",
       "      <td>0</td>\n",
       "      <td>0</td>\n",
       "      <td>6</td>\n",
       "      <td>2007</td>\n",
       "      <td>156000</td>\n",
       "    </tr>\n",
       "    <tr>\n",
       "      <th>561</th>\n",
       "      <td>20</td>\n",
       "      <td>10010</td>\n",
       "      <td>5</td>\n",
       "      <td>5</td>\n",
       "      <td>1974</td>\n",
       "      <td>1975</td>\n",
       "      <td>1071</td>\n",
       "      <td>123</td>\n",
       "      <td>195</td>\n",
       "      <td>1389</td>\n",
       "      <td>...</td>\n",
       "      <td>240</td>\n",
       "      <td>38</td>\n",
       "      <td>0</td>\n",
       "      <td>0</td>\n",
       "      <td>0</td>\n",
       "      <td>0</td>\n",
       "      <td>0</td>\n",
       "      <td>4</td>\n",
       "      <td>2006</td>\n",
       "      <td>170000</td>\n",
       "    </tr>\n",
       "  </tbody>\n",
       "</table>\n",
       "<p>5 rows × 34 columns</p>\n",
       "</div>"
      ],
      "text/plain": [
       "      MSSubClass  LotArea  OverallQual  OverallCond  YearBuilt  YearRemodAdd  \\\n",
       "615           85     8800            6            7       1963          1963   \n",
       "613           20     8402            5            5       2007          2007   \n",
       "1303          20     8688            7            5       2005          2005   \n",
       "486           20    10289            5            7       1965          1965   \n",
       "561           20    10010            5            5       1974          1975   \n",
       "\n",
       "      BsmtFinSF1  BsmtFinSF2  BsmtUnfSF  TotalBsmtSF    ...      WoodDeckSF  \\\n",
       "615          763           0        173          936    ...             120   \n",
       "613          206           0        914         1120    ...               0   \n",
       "1303           0           0       1616         1616    ...             208   \n",
       "486          836           0        237         1073    ...               0   \n",
       "561         1071         123        195         1389    ...             240   \n",
       "\n",
       "      OpenPorchSF  EnclosedPorch  3SsnPorch  ScreenPorch  PoolArea  MiscVal  \\\n",
       "615             0              0          0            0         0        0   \n",
       "613            30              0          0            0         0        0   \n",
       "1303           59              0          0            0         0        0   \n",
       "486             0              0          0            0         0        0   \n",
       "561            38              0          0            0         0        0   \n",
       "\n",
       "      MoSold  YrSold  SalePrice  \n",
       "615        5    2010     137500  \n",
       "613       12    2007     147000  \n",
       "1303       4    2006     232000  \n",
       "486        6    2007     156000  \n",
       "561        4    2006     170000  \n",
       "\n",
       "[5 rows x 34 columns]"
      ]
     },
     "execution_count": 111,
     "metadata": {},
     "output_type": "execute_result"
    }
   ],
   "source": [
    "from sklearn.model_selection import train_test_split\n",
    "\n",
    "X = df[X_numerical_not_missing_values_labels]\n",
    "Y=df[[\"SalePrice\"]];\n",
    "X_train,X_test,Y_train,Y_test = train_test_split(X,Y,test_size=0.33,random_state=42)\n",
    "print(Y_train.head())\n",
    "X_train.head()"
   ]
  },
  {
   "cell_type": "markdown",
   "metadata": {},
   "source": [
    "## Train on multiple models"
   ]
  },
  {
   "cell_type": "code",
   "execution_count": 99,
   "metadata": {},
   "outputs": [],
   "source": [
    "\n",
    "#training\n",
    "from sklearn.linear_model import LogisticRegression\n",
    "from sklearn.linear_model import LinearRegression\n",
    "from sklearn.svm import SVC, LinearSVC\n",
    "from sklearn.neighbors import KNeighborsClassifier\n",
    "from sklearn.tree import DecisionTreeClassifier\n",
    "from sklearn.ensemble import RandomForestClassifier\n",
    "from sklearn.naive_bayes import GaussianNB\n",
    "from sklearn.neural_network import MLPClassifier\n",
    "from sklearn.ensemble import AdaBoostClassifier \n",
    "\n",
    "from sklearn.metrics import mean_squared_log_error\n",
    "from sklearn import preprocessing\n",
    "\n",
    "models = []\n",
    "models.append((\"SVC\",SVC()))\n",
    "models.append((\"LinearSVC\",LinearSVC()))\n",
    "models.append((\"KNeighbors\",KNeighborsClassifier()))\n",
    "models.append((\"DecisionTree\",DecisionTreeClassifier()))\n",
    "models.append((\"RandomForest\",RandomForestClassifier()))\n",
    "\n",
    "modelsWhichNeedNormalization = []\n",
    "modelsWhichNeedNormalization.append((\"LogisticRegression\",LogisticRegression()))\n",
    "modelsWhichNeedNormalization.append((\"MLPClassifier\",MLPClassifier(solver='lbfgs', random_state=0)))\n",
    "modelsWhichNeedNormalization.append((\"LinearRegression\", LinearRegression()))\n",
    "# models"
   ]
  },
  {
   "cell_type": "code",
   "execution_count": 127,
   "metadata": {},
   "outputs": [
    {
     "name": "stdout",
     "output_type": "stream",
     "text": [
      "5 expected values: [[154500]\n",
      " [325000]\n",
      " [115000]\n",
      " [159000]\n",
      " [315500]]\n",
      "\n",
      "Training on SVC\n",
      "   mean squared log error: 0.1979351767720077\n",
      "\n",
      "   5 predicted values: [140000 140000 140000 140000 140000]\n",
      "\n",
      "Training on LinearSVC\n",
      "   mean squared log error: 1.1981167182235641\n",
      "\n",
      "   5 predicted values: [60000 60000 60000 60000 60000]\n",
      "\n",
      "Training on KNeighbors\n",
      "   mean squared log error: 0.0013517972574133067\n",
      "\n",
      "   5 predicted values: [155000 324000 115000 157000 318000]\n",
      "\n",
      "Training on DecisionTree\n",
      "   mean squared log error: 0.004929683188873606\n",
      "\n",
      "   5 predicted values: [154000 325000 113000 159500 318000]\n",
      "\n",
      "Training on RandomForest\n",
      "   mean squared log error: 0.06611855159386737\n",
      "\n",
      "   5 predicted values: [149000 207500  76000 160000 272000]\n",
      "\n"
     ]
    }
   ],
   "source": [
    "print(\"5 expected values: {}\\n\".format(Y_test[0:5].values))\n",
    "containers=[]\n",
    "for name,model in models:\n",
    "#     Train the model using the training sets\n",
    "    model.fit(X_train, Y_train)\n",
    "\n",
    "    # Make predictions using the testing set\n",
    "    y_pre = model.predict(X_test)\n",
    "    mean_squared_log_err= mean_squared_log_error(Y_test, y_pre)\n",
    "    print(\"Training on {}\\n   mean squared log error: {}\\n\".format(name,mean_squared_log_err))\n",
    "    print(\"   5 predicted values: {}\\n\".format(y_pre[0:5]))\n",
    "    containers.append([name,model,y_pre,mean_squared_log_err])"
   ]
  },
  {
   "cell_type": "code",
   "execution_count": 128,
   "metadata": {},
   "outputs": [
    {
     "name": "stdout",
     "output_type": "stream",
     "text": [
      "5 expected values: [[154500]\n",
      " [325000]\n",
      " [115000]\n",
      " [159000]\n",
      " [315500]]\n",
      "\n",
      "Training on LogisticRegression\n",
      "   mean squared log error: 0.07373474880290908\n",
      "\n",
      "   5 predicted values: [145000 260000 110000 239000 385000]\n",
      "\n",
      "Training on MLPClassifier\n",
      "   mean squared log error: 0.054286516265507984\n",
      "\n",
      "   5 predicted values: [135000 412500  93000 239000 385000]\n",
      "\n",
      "Training on LinearRegression\n",
      "   mean squared log error: 0.0034970452468143513\n",
      "\n",
      "   5 predicted values: [[157814.46831387]\n",
      " [309217.04534995]\n",
      " [122723.27223142]\n",
      " [161769.41225989]\n",
      " [300857.72026585]]\n",
      "\n"
     ]
    }
   ],
   "source": [
    "print(\"5 expected values: {}\\n\".format(Y_test[0:5].values))\n",
    "for name,model in modelsWhichNeedNormalization:\n",
    "#     Train the model using the training sets\n",
    "    X_train_scaled = preprocessing.scale(X_train)\n",
    "    model.fit(X_train_scaled, Y_train)\n",
    "\n",
    "    # Make predictions using the testing set\n",
    "    X_test_scaled = preprocessing.scale(X_test)\n",
    "    y_pre = model.predict(X_test_scaled)\n",
    "    \n",
    "    mean_squared_log_err= mean_squared_log_error(Y_test, y_pre)\n",
    "    print(\"Training on {}\\n   mean squared log error: {}\\n\".format(name,mean_squared_log_err))\n",
    "    print(\"   5 predicted values: {}\\n\".format(y_pre[0:5]))\n",
    "    containers.append([name,model,y_pre,mean_squared_log_err])\n",
    "\n",
    "# crash on Jeremie's laptop"
   ]
  },
  {
   "cell_type": "code",
   "execution_count": 216,
   "metadata": {},
   "outputs": [
    {
     "data": {
      "image/png": "[encoded data removed]",
      "text/plain": [
       "<Figure size 1008x144 with 1 Axes>"
      ]
     },
     "metadata": {},
     "output_type": "display_data"
    }
   ],
   "source": [
    "def displayErrGraphOnAllAlgorithms(containers):\n",
    "    plt.rcParams[\"figure.figsize\"] = (14,2)\n",
    "    from matplotlib.legend_handler import HandlerLine2D\n",
    "\n",
    "    names=[(lambda row: row[0])(row) for row in containers]\n",
    "    mean_squared_log_errs=[(lambda row: row[3])(row) for row in containers]\n",
    "\n",
    "    errs_df=pd.DataFrame(data=mean_squared_log_errs,columns=[\"err\"])\n",
    "    errs_df[\"name\"]=names\n",
    "    errs_df.sort_values(by=\"err\",inplace=True)\n",
    "\n",
    "    line1, = plt.plot(errs_df[\"name\"],errs_df[\"err\"], 'b', label='Train f1 score on lying straight')\n",
    "    plt.legend(handler_map={line1: HandlerLine2D(numpoints=1)})\n",
    "    plt.ylabel('Mean squared error')\n",
    "    plt.xlabel('Model')\n",
    "    plt.yscale(\"log\")\n",
    "\n",
    "    plt.show()\n",
    "displayErrGraphOnAllAlgorithms(containers)"
   ]
  },
  {
   "cell_type": "code",
   "execution_count": null,
   "metadata": {},
   "outputs": [],
   "source": []
  },
  {
   "cell_type": "code",
   "execution_count": 222,
   "metadata": {},
   "outputs": [],
   "source": [
    "def displayGraphTrueVsPred(name,y_pre,Y_test):\n",
    "    plt.rcParams[\"figure.figsize\"] = (7,7)\n",
    "\n",
    "    preds_df=pd.DataFrame(data=y_pre,columns=[\"predictions\"])\n",
    "    preds_df[\"true values\"]=Y_test.SalePrice.values\n",
    "\n",
    "    print(\"Model: {}\".format(name))\n",
    "\n",
    "    plt.plot(preds_df[\"predictions\"], preds_df[\"true values\"],'bo')\n",
    "    plt.plot([0,700000], [0,700000])\n",
    "    # line1, = plt.plot(y_pre, Y_test, 'b', label='predictions')\n",
    "    # plt.legend(handler_map={line1: HandlerLine2D(numpoints=2)})\n",
    "    # plt.ylabel('Sales price')\n",
    "    plt.xlabel('Predictions')\n",
    "    plt.ylabel('true values')\n",
    "    # plt.yscale(\"log\")\n",
    "\n",
    "    plt.show()\n",
    "    "
   ]
  },
  {
   "cell_type": "code",
   "execution_count": 223,
   "metadata": {},
   "outputs": [
    {
     "name": "stdout",
     "output_type": "stream",
     "text": [
      "Model: LinearRegression\n"
     ]
    },
    {
     "data": {
      "image/png": "[encoded data removed]",
      "text/plain": [
       "<Figure size 504x504 with 1 Axes>"
      ]
     },
     "metadata": {},
     "output_type": "display_data"
    },
    {
     "name": "stdout",
     "output_type": "stream",
     "text": [
      "Model: KNeighbors\n"
     ]
    },
    {
     "data": {
      "image/png": "[encoded data removed]",
      "text/plain": [
       "<Figure size 504x504 with 1 Axes>"
      ]
     },
     "metadata": {},
     "output_type": "display_data"
    }
   ],
   "source": [
    "\n",
    "displayGraphTrueVsPred(containers[7][0],containers[7][2],Y_test)\n",
    "displayGraphTrueVsPred(containers[2][0],containers[2][2],Y_test)"
   ]
  },
  {
   "cell_type": "code",
   "execution_count": 225,
   "metadata": {},
   "outputs": [
    {
     "name": "stdout",
     "output_type": "stream",
     "text": [
      "Model: LinearRegression\n"
     ]
    },
    {
     "data": {
      "image/png": "[encoded data removed]",
      "text/plain": [
       "<Figure size 1224x288 with 1 Axes>"
      ]
     },
     "metadata": {},
     "output_type": "display_data"
    },
    {
     "name": "stdout",
     "output_type": "stream",
     "text": [
      "Model: KNeighbors\n"
     ]
    },
    {
     "data": {
      "image/png": "[encoded data removed]",
      "text/plain": [
       "<Figure size 1224x288 with 1 Axes>"
      ]
     },
     "metadata": {},
     "output_type": "display_data"
    }
   ],
   "source": [
    "def displayGraphTrueVsPred2(name,y_pre,Y_test):\n",
    "    plt.rcParams[\"figure.figsize\"] = (17,4)\n",
    "\n",
    "    print(\"Model: {}\".format(name))\n",
    "\n",
    "    preds_df=pd.DataFrame(data=y_pre,columns=[\"predictions\"])\n",
    "    preds_df[\"true values\"]=Y_test.SalePrice.values\n",
    "    preds_df.sort_values(by=\"true values\",inplace=True)\n",
    "    preds_df.reset_index(drop=True,inplace=True)\n",
    "\n",
    "\n",
    "    line1, = plt.plot(preds_df[\"predictions\"], 'b')\n",
    "    line2, = plt.plot(preds_df[\"true values\"], 'c')\n",
    "    plt.legend(handler_map={line1: HandlerLine2D(numpoints=1)})\n",
    "    plt.ylabel('Sales price')\n",
    "\n",
    "    plt.show()\n",
    "\n",
    "    \n",
    "displayGraphTrueVsPred2(containers[7][0],containers[7][2],Y_test)\n",
    "displayGraphTrueVsPred2(containers[2][0],containers[2][2],Y_test)"
   ]
  },
  {
   "cell_type": "markdown",
   "metadata": {},
   "source": [
    "## Conclusion"
   ]
  },
  {
   "cell_type": "code",
   "execution_count": 227,
   "metadata": {},
   "outputs": [
    {
     "data": {
      "image/png": "[encoded data removed]",
      "text/plain": [
       "<Figure size 1008x144 with 1 Axes>"
      ]
     },
     "metadata": {},
     "output_type": "display_data"
    },
    {
     "name": "stdout",
     "output_type": "stream",
     "text": [
      "Model: LinearRegression\n"
     ]
    },
    {
     "data": {
      "image/png": "[encoded data removed]",
      "text/plain": [
       "<Figure size 1224x288 with 1 Axes>"
      ]
     },
     "metadata": {},
     "output_type": "display_data"
    },
    {
     "name": "stdout",
     "output_type": "stream",
     "text": [
      "Model: KNeighbors\n"
     ]
    },
    {
     "data": {
      "image/png": "[encoded data removed]",
      "text/plain": [
       "<Figure size 1224x288 with 1 Axes>"
      ]
     },
     "metadata": {},
     "output_type": "display_data"
    }
   ],
   "source": [
    "\n",
    "displayErrGraphOnAllAlgorithms(containers)\n",
    "displayGraphTrueVsPred2(containers[7][0],containers[7][2],Y_test)\n",
    "displayGraphTrueVsPred2(containers[2][0],containers[2][2],Y_test)"
   ]
  },
  {
   "cell_type": "markdown",
   "metadata": {},
   "source": [
    "Jeremie: k neighbors has higher accuracy but I'm afraid it would fail to generalize well, especially on the top sales prices. still need to include categorical labels, but would be tempted to go for linear regression instead"
   ]
  },
  {
   "cell_type": "code",
   "execution_count": null,
   "metadata": {},
   "outputs": [],
   "source": []
  }
 ],
 "metadata": {
  "kernelspec": {
   "display_name": "Python (env python_3_5)",
   "language": "python",
   "name": "py-dku-venv-python_3_5"
  },
  "language_info": {
   "codemirror_mode": {
    "name": "ipython",
    "version": 3
   },
   "file_extension": ".py",
   "mimetype": "text/x-python",
   "name": "python",
   "nbconvert_exporter": "python",
   "pygments_lexer": "ipython3",
   "version": "3.5.2"
  }
 },
 "nbformat": 4,
 "nbformat_minor": 2
}
